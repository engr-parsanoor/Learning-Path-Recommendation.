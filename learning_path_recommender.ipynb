{
  "nbformat": 4,
  "nbformat_minor": 0,
  "metadata": {
    "colab": {
      "provenance": []
    },
    "kernelspec": {
      "name": "python3",
      "display_name": "Python 3"
    },
    "language_info": {
      "name": "python"
    }
  },
  "cells": [
    {
      "cell_type": "code",
      "execution_count": 1,
      "metadata": {
        "colab": {
          "base_uri": "https://localhost:8080/",
          "height": 619
        },
        "id": "KxrAHAuAXOy5",
        "outputId": "6a20cb82-98b3-4285-81f4-1fd4a0035c48"
      },
      "outputs": [
        {
          "output_type": "stream",
          "name": "stdout",
          "text": [
            "Found existing installation: numpy 1.26.4\n",
            "Uninstalling numpy-1.26.4:\n",
            "  Successfully uninstalled numpy-1.26.4\n",
            "Collecting numpy==1.26.4\n",
            "  Using cached numpy-1.26.4-cp311-cp311-manylinux_2_17_x86_64.manylinux2014_x86_64.whl.metadata (61 kB)\n",
            "Using cached numpy-1.26.4-cp311-cp311-manylinux_2_17_x86_64.manylinux2014_x86_64.whl (18.3 MB)\n",
            "Installing collected packages: numpy\n",
            "\u001b[31mERROR: pip's dependency resolver does not currently take into account all the packages that are installed. This behaviour is the source of the following dependency conflicts.\n",
            "thinc 8.3.6 requires numpy<3.0.0,>=2.0.0, but you have numpy 1.26.4 which is incompatible.\n",
            "opencv-python-headless 4.12.0.88 requires numpy<2.3.0,>=2; python_version >= \"3.9\", but you have numpy 1.26.4 which is incompatible.\n",
            "opencv-contrib-python 4.12.0.88 requires numpy<2.3.0,>=2; python_version >= \"3.9\", but you have numpy 1.26.4 which is incompatible.\n",
            "opencv-python 4.12.0.88 requires numpy<2.3.0,>=2; python_version >= \"3.9\", but you have numpy 1.26.4 which is incompatible.\u001b[0m\u001b[31m\n",
            "\u001b[0mSuccessfully installed numpy-1.26.4\n"
          ]
        },
        {
          "output_type": "display_data",
          "data": {
            "application/vnd.colab-display-data+json": {
              "pip_warning": {
                "packages": [
                  "numpy"
                ]
              },
              "id": "ebc3622b05eb42cf9599bca314690f5f"
            }
          },
          "metadata": {}
        },
        {
          "output_type": "stream",
          "name": "stdout",
          "text": [
            "Collecting scikit-surprise\n",
            "  Using cached scikit_surprise-1.1.4.tar.gz (154 kB)\n",
            "  Installing build dependencies ... \u001b[?25l\u001b[?25hdone\n",
            "  Getting requirements to build wheel ... \u001b[?25l\u001b[?25hdone\n",
            "  Preparing metadata (pyproject.toml) ... \u001b[?25l\u001b[?25hdone\n",
            "Requirement already satisfied: joblib>=1.2.0 in /usr/local/lib/python3.11/dist-packages (from scikit-surprise) (1.5.1)\n",
            "Requirement already satisfied: numpy>=1.19.5 in /usr/local/lib/python3.11/dist-packages (from scikit-surprise) (1.26.4)\n",
            "Requirement already satisfied: scipy>=1.6.0 in /usr/local/lib/python3.11/dist-packages (from scikit-surprise) (1.16.1)\n",
            "Building wheels for collected packages: scikit-surprise\n",
            "  Building wheel for scikit-surprise (pyproject.toml) ... \u001b[?25l\u001b[?25hdone\n",
            "  Created wheel for scikit-surprise: filename=scikit_surprise-1.1.4-cp311-cp311-linux_x86_64.whl size=2469539 sha256=926bab28bcbffa66adf270591c1fbfc564d8a455cb74d1c8be9640b2d76e02ce\n",
            "  Stored in directory: /root/.cache/pip/wheels/2a/8f/6e/7e2899163e2d85d8266daab4aa1cdabec7a6c56f83c015b5af\n",
            "Successfully built scikit-surprise\n",
            "Installing collected packages: scikit-surprise\n",
            "Successfully installed scikit-surprise-1.1.4\n"
          ]
        }
      ],
      "source": [
        "!pip uninstall -y numpy\n",
        "!pip install numpy==1.26.4\n",
        "!pip install scikit-surprise\n"
      ]
    },
    {
      "cell_type": "code",
      "source": [
        "import pandas as pd\n",
        "from surprise import Dataset, Reader, SVD\n",
        "from surprise.model_selection import train_test_split\n",
        "from surprise import accuracy\n",
        "\n",
        "print(\"🎉 All good! You're ready to go.\")\n"
      ],
      "metadata": {
        "colab": {
          "base_uri": "https://localhost:8080/"
        },
        "id": "h9_cs1yGdlxo",
        "outputId": "4ae50e01-1e8a-4006-f816-360b869f81e5"
      },
      "execution_count": 2,
      "outputs": [
        {
          "output_type": "stream",
          "name": "stdout",
          "text": [
            "🎉 All good! You're ready to go.\n"
          ]
        }
      ]
    },
    {
      "cell_type": "code",
      "source": [
        "# Step 3: Load your dataset\n",
        "data = pd.read_csv('/content/intern_learning_history.csv')\n",
        "\n",
        "# Step 4: Prepare the data for Surprise library\n",
        "reader = Reader(rating_scale=(1, 5))\n",
        "surprise_data = Dataset.load_from_df(data[['intern_id', 'course_id', 'rating']], reader)\n",
        "\n",
        "# Step 5: Train-test split\n",
        "trainset, testset = train_test_split(surprise_data, test_size=0.2)\n",
        "\n",
        "# Step 6: Build model using SVD (Matrix Factorization)\n",
        "model = SVD()\n",
        "model.fit(trainset)\n",
        "\n",
        "# Step 7: Predict on test set\n",
        "predictions = model.test(testset)\n",
        "\n",
        "# Step 8: Evaluate\n",
        "accuracy.rmse(predictions)\n",
        "\n",
        "# Step 9: Recommend for a specific intern\n",
        "def get_recommendations(intern_id, course_ids, top_n=3):\n",
        "    # Predict ratings for all unseen courses\n",
        "    unseen = [cid for cid in course_ids if not ((data['intern_id'] == intern_id) & (data['course_id'] == cid)).any()]\n",
        "    intern_predictions = [(cid, model.predict(intern_id, cid).est) for cid in unseen]\n",
        "    intern_predictions.sort(key=lambda x: x[1], reverse=True)\n",
        "    return intern_predictions[:top_n]\n",
        "\n",
        "# Example: Recommend for intern_id = 1\n",
        "all_courses = pd.read_csv('/content/course_metadata.csv')['course_id'].tolist()\n",
        "recommendations = get_recommendations(1, all_courses)\n",
        "print(\"Recommended courses for Intern 1:\")\n",
        "for cid, score in recommendations:\n",
        "    print(f\"{cid} - Predicted Rating: {round(score, 2)}\")"
      ],
      "metadata": {
        "colab": {
          "base_uri": "https://localhost:8080/"
        },
        "id": "xlaw3Y-1eU7c",
        "outputId": "62de9ba4-06e3-4a5b-d1c4-c702ccf9f93d"
      },
      "execution_count": 5,
      "outputs": [
        {
          "output_type": "stream",
          "name": "stdout",
          "text": [
            "RMSE: 1.9923\n",
            "Recommended courses for Intern 1:\n",
            "C103 - Predicted Rating: 4.53\n",
            "C104 - Predicted Rating: 4.5\n",
            "C105 - Predicted Rating: 4.5\n"
          ]
        }
      ]
    }
  ]
}